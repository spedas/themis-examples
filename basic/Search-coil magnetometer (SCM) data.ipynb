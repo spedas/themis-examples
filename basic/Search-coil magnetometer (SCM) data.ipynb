{
 "cells": [
  {
   "cell_type": "markdown",
   "id": "551d34a3",
   "metadata": {},
   "source": [
    "## Search-coil magnetometer (SCM) data\n",
    "\n",
    "This notebook shows how to load THEMIS SCM data\n",
    "\n",
    "note: the MPLPlotter version of pytplot is available via:\n",
    "\n",
    "pip install --upgrade https://github.com/MAVENSDC/PyTplot/archive/matplotlib-backend.zip"
   ]
  },
  {
   "cell_type": "code",
   "execution_count": 1,
   "id": "47f16a1d",
   "metadata": {},
   "outputs": [],
   "source": [
    "from pytplot.MPLPlotter.tplot import tplot\n",
    "import pyspedas"
   ]
  },
  {
   "cell_type": "code",
   "execution_count": 2,
   "id": "147e0926",
   "metadata": {},
   "outputs": [
    {
     "name": "stderr",
     "output_type": "stream",
     "text": [
      "11-Oct-21 11:17:17: Downloading remote index: http://themis.ssl.berkeley.edu/data/themis/thc/l2/scm/2007/\n",
      "11-Oct-21 11:17:17: File is current: themis_data/thc/l2/scm/2007/thc_l2_scm_20070323_v01.cdf\n"
     ]
    },
    {
     "data": {
      "text/plain": [
       "['thc_scf_btotal',\n",
       " 'thc_scf_gse',\n",
       " 'thc_scf_gsm',\n",
       " 'thc_scf_dsl',\n",
       " 'thc_scp_btotal',\n",
       " 'thc_scp_gse',\n",
       " 'thc_scp_gsm',\n",
       " 'thc_scp_dsl',\n",
       " 'thc_scw_btotal',\n",
       " 'thc_scw_gse',\n",
       " 'thc_scw_gsm',\n",
       " 'thc_scw_dsl']"
      ]
     },
     "execution_count": 2,
     "metadata": {},
     "output_type": "execute_result"
    }
   ],
   "source": [
    "# select probe\n",
    "probe = 'c'\n",
    "\n",
    "# set time range\n",
    "trange = ['2007-03-23','2007-03-24']\n",
    "\n",
    "# load level 2 data products\n",
    "pyspedas.themis.scm(trange=trange, probe=probe)"
   ]
  },
  {
   "cell_type": "code",
   "execution_count": 3,
   "id": "75935ece",
   "metadata": {},
   "outputs": [
    {
     "data": {
      "text/plain": [
       "['thc_scf_btotal',\n",
       " 'thc_scf_gse',\n",
       " 'thc_scf_gsm',\n",
       " 'thc_scf_dsl',\n",
       " 'thc_scp_btotal',\n",
       " 'thc_scp_gse',\n",
       " 'thc_scp_gsm',\n",
       " 'thc_scp_dsl',\n",
       " 'thc_scw_btotal',\n",
       " 'thc_scw_gse',\n",
       " 'thc_scw_gsm',\n",
       " 'thc_scw_dsl']"
      ]
     },
     "execution_count": 3,
     "metadata": {},
     "output_type": "execute_result"
    }
   ],
   "source": [
    "from pyspedas import tnames\n",
    "\n",
    "# List the loaded data\n",
    "tnames('th'+probe+'_sc*')"
   ]
  },
  {
   "cell_type": "code",
   "execution_count": null,
   "id": "3674ac57",
   "metadata": {},
   "outputs": [],
   "source": [
    "# plot some examples\n",
    "tplot(['thc_scf_gsm', 'thc_scp_gsm', 'thc_scw_gsm'])"
   ]
  },
  {
   "cell_type": "code",
   "execution_count": null,
   "id": "e2352058",
   "metadata": {},
   "outputs": [],
   "source": []
  }
 ],
 "metadata": {
  "kernelspec": {
   "display_name": "Python 3 (ipykernel)",
   "language": "python",
   "name": "python3"
  },
  "language_info": {
   "codemirror_mode": {
    "name": "ipython",
    "version": 3
   },
   "file_extension": ".py",
   "mimetype": "text/x-python",
   "name": "python",
   "nbconvert_exporter": "python",
   "pygments_lexer": "ipython3",
   "version": "3.9.1"
  }
 },
 "nbformat": 4,
 "nbformat_minor": 5
}
