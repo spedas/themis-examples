{
 "cells": [
  {
   "cell_type": "markdown",
   "id": "a271f5c7",
   "metadata": {},
   "source": [
    "## State data\n",
    "\n",
    "This notebook demonstrates the loading of THEMIS state data"
   ]
  },
  {
   "cell_type": "code",
   "execution_count": 3,
   "id": "c2fe0907",
   "metadata": {},
   "outputs": [],
   "source": [
    "import pyspedas\n",
    "from pyspedas.cotrans.cotrans import cotrans\n",
    "from pytplot import tplot, options"
   ]
  },
  {
   "cell_type": "code",
   "execution_count": 5,
   "id": "a77e2109",
   "metadata": {},
   "outputs": [
    {
     "name": "stderr",
     "output_type": "stream",
     "text": [
      "24-Sep-21 15:38:34: Downloading http://themis.ssl.berkeley.edu/data/themis/tha/l1/state/2007/tha_l1_state_20070623.cdf to themis_data/tha/l1/state/2007/tha_l1_state_20070623.cdf\n",
      "24-Sep-21 15:38:35: Download complete: themis_data/tha/l1/state/2007/tha_l1_state_20070623.cdf\n"
     ]
    },
    {
     "data": {
      "text/plain": [
       "['tha_pos',\n",
       " 'tha_vel',\n",
       " 'tha_spin_initial_delta_phi',\n",
       " 'tha_spin_idpu_spinper',\n",
       " 'tha_spin_segflags',\n",
       " 'tha_spin_ecl_initial_delta_phi',\n",
       " 'tha_spin_ecl_idpu_spinper',\n",
       " 'tha_spin_ecl_segflags',\n",
       " 'tha_pos_gse',\n",
       " 'tha_pos_gsm',\n",
       " 'tha_vel_gse',\n",
       " 'tha_vel_gsm',\n",
       " 'tha_pos_sel',\n",
       " 'tha_pos_sse',\n",
       " 'tha_vel_sel',\n",
       " 'tha_vel_sse']"
      ]
     },
     "execution_count": 5,
     "metadata": {},
     "output_type": "execute_result"
    }
   ],
   "source": [
    "pyspedas.themis.state(trange=['2007-06-23', '2007-06-24'], probe='a')"
   ]
  },
  {
   "cell_type": "markdown",
   "id": "4f17c127",
   "metadata": {},
   "source": [
    "Plot the position and velocity in GSM coordinates"
   ]
  },
  {
   "cell_type": "code",
   "execution_count": 6,
   "id": "54716e12",
   "metadata": {},
   "outputs": [],
   "source": [
    "tplot(['tha_pos_gsm', 'tha_vel_gsm'])"
   ]
  },
  {
   "cell_type": "code",
   "execution_count": null,
   "id": "ca3cc75b",
   "metadata": {},
   "outputs": [],
   "source": []
  }
 ],
 "metadata": {
  "kernelspec": {
   "display_name": "Python 3 (ipykernel)",
   "language": "python",
   "name": "python3"
  },
  "language_info": {
   "codemirror_mode": {
    "name": "ipython",
    "version": 3
   },
   "file_extension": ".py",
   "mimetype": "text/x-python",
   "name": "python",
   "nbconvert_exporter": "python",
   "pygments_lexer": "ipython3",
   "version": "3.9.1"
  }
 },
 "nbformat": 4,
 "nbformat_minor": 5
}
