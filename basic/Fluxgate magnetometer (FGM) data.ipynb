{
 "cells": [
  {
   "cell_type": "markdown",
   "id": "d5e997a0",
   "metadata": {},
   "source": [
    "## Fluxgate magnetometer (FGM) data\n",
    "\n",
    "This notebook shows how to load THEMIS FGM data"
   ]
  },
  {
   "cell_type": "code",
   "execution_count": 1,
   "id": "0975390c",
   "metadata": {},
   "outputs": [],
   "source": [
    "import pyspedas\n",
    "from pytplot import tplot"
   ]
  },
  {
   "cell_type": "markdown",
   "id": "3b60827e",
   "metadata": {},
   "source": [
    "Load data in all coordinate systems availabe in L2 CDF"
   ]
  },
  {
   "cell_type": "code",
   "execution_count": 2,
   "id": "340c1047",
   "metadata": {},
   "outputs": [
    {
     "name": "stderr",
     "output_type": "stream",
     "text": [
      "24-Sep-21 15:09:17: Downloading remote index: http://themis.ssl.berkeley.edu/data/themis/tha/l2/fgm/2007/\n",
      "24-Sep-21 15:09:19: Downloading http://themis.ssl.berkeley.edu/data/themis/tha/l2/fgm/2007/tha_l2_fgm_20070323_v01.cdf to themis_data/tha/l2/fgm/2007/tha_l2_fgm_20070323_v01.cdf\n",
      "24-Sep-21 15:09:21: Download complete: themis_data/tha/l2/fgm/2007/tha_l2_fgm_20070323_v01.cdf\n"
     ]
    },
    {
     "data": {
      "text/plain": [
       "['tha_fgs_btotal',\n",
       " 'tha_fgs_gse',\n",
       " 'tha_fgs_gsm',\n",
       " 'tha_fgs_dsl',\n",
       " 'tha_fgl_btotal',\n",
       " 'tha_fgl_gse',\n",
       " 'tha_fgl_gsm',\n",
       " 'tha_fgl_dsl',\n",
       " 'tha_fgl_ssl',\n",
       " 'tha_fgh_btotal',\n",
       " 'tha_fgh_gse',\n",
       " 'tha_fgh_gsm',\n",
       " 'tha_fgh_dsl',\n",
       " 'tha_fgh_ssl',\n",
       " 'tha_fge_btotal',\n",
       " 'tha_fge_gse',\n",
       " 'tha_fge_gsm',\n",
       " 'tha_fge_dsl',\n",
       " 'tha_fge_ssl']"
      ]
     },
     "execution_count": 2,
     "metadata": {},
     "output_type": "execute_result"
    }
   ],
   "source": [
    "pyspedas.themis.fgm(probe='a', trange=['2007-3-23', '2007-3-24'])"
   ]
  },
  {
   "cell_type": "markdown",
   "id": "a70ddcf1",
   "metadata": {},
   "source": [
    "Plot the data in DSL and GSM coordinates"
   ]
  },
  {
   "cell_type": "code",
   "execution_count": 3,
   "id": "2e8479de",
   "metadata": {},
   "outputs": [],
   "source": [
    "tplot(['tha_fgs_dsl', 'tha_fgs_gsm'])"
   ]
  },
  {
   "cell_type": "code",
   "execution_count": null,
   "id": "03635d21",
   "metadata": {},
   "outputs": [],
   "source": []
  }
 ],
 "metadata": {
  "kernelspec": {
   "display_name": "Python 3 (ipykernel)",
   "language": "python",
   "name": "python3"
  },
  "language_info": {
   "codemirror_mode": {
    "name": "ipython",
    "version": 3
   },
   "file_extension": ".py",
   "mimetype": "text/x-python",
   "name": "python",
   "nbconvert_exporter": "python",
   "pygments_lexer": "ipython3",
   "version": "3.9.1"
  }
 },
 "nbformat": 4,
 "nbformat_minor": 5
}
