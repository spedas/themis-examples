{
 "cells": [
  {
   "cell_type": "markdown",
   "id": "5dbda585-13e1-407f-a68c-2301078b13cd",
   "metadata": {},
   "source": [
    "# Example of using calibration of fit\n",
    "Note: currently you must use pysepdas branch 'thm_cal_fit' to use this notebook."
   ]
  },
  {
   "cell_type": "code",
   "execution_count": 1,
   "id": "cfd665d3-b317-4aae-a22b-61c9194d5545",
   "metadata": {},
   "outputs": [],
   "source": [
    "import pyspedas\n",
    "import pytplot\n",
    "from pyspedas.themis.spacecraft.fields.fit import cal_fit"
   ]
  },
  {
   "cell_type": "markdown",
   "id": "9c05183a-b3f9-4129-baea-c41ef2dbeb74",
   "metadata": {},
   "source": [
    "## Load fit data\n",
    "Supporting variables must be included, e.g. '?_fit_code'. You can also include '?_fit_npts'"
   ]
  },
  {
   "cell_type": "code",
   "execution_count": 2,
   "id": "0ef9cf92-41ed-4185-a62f-8b818739ee4b",
   "metadata": {},
   "outputs": [
    {
     "name": "stderr",
     "output_type": "stream",
     "text": [
      "08-Oct-21 14:58:53: Downloading remote index: http://themis.ssl.berkeley.edu/data/themis/tha/l1/fit/2008/\n",
      "08-Oct-21 14:58:53: File is current: c:\\work\\Data\\SPEDAS\\\\themis\\tha/l1/fit/2008/tha_l1_fit_20080323_v01.cdf\n"
     ]
    },
    {
     "data": {
      "text/plain": [
       "['tha_fit', 'tha_fit_code']"
      ]
     },
     "execution_count": 2,
     "metadata": {},
     "output_type": "execute_result"
    }
   ],
   "source": [
    "pyspedas.themis.fit(trange=['2008-03-23', '2008-03-24'], probe='a', level='l1', get_support_data=True,\n",
    "                    varnames=['tha_fit', 'tha_fit_code'])"
   ]
  },
  {
   "cell_type": "markdown",
   "id": "90c6d560-fd3b-49c8-812c-0b9b12438d3b",
   "metadata": {},
   "source": [
    "## Calibration\n",
    "function cal_fit expects that correponded tplot vataibles '?_fit' and '?_fit_code' are create prior (by pyspedas.themis.fit)"
   ]
  },
  {
   "cell_type": "code",
   "execution_count": 3,
   "id": "addb7fd5-ac9c-4f07-8b5d-50b90a16e461",
   "metadata": {},
   "outputs": [
    {
     "name": "stderr",
     "output_type": "stream",
     "text": [
      "08-Oct-21 14:58:53: File is current: c:\\work\\Data\\SPEDAS\\\\themis\\tha/l1/fgm/0000/tha_fgmcal.txt\n"
     ]
    },
    {
     "name": "stdout",
     "output_type": "stream",
     "text": [
      "['tha_fit', 'tha_fit_code', 'tha_fgs', 'tha_fgs_sigma', 'tha_fit_bfit', 'tha_fit_efit']\n"
     ]
    }
   ],
   "source": [
    "cal_fit(probe='a')\n",
    "print(pytplot.tplot_names(True))"
   ]
  },
  {
   "cell_type": "markdown",
   "id": "c8f691b5-866f-49b9-b903-d3b74c2dd3ba",
   "metadata": {},
   "source": [
    "## Plot variables"
   ]
  },
  {
   "cell_type": "code",
   "execution_count": 4,
   "id": "50ef2a11-6f9d-48a3-8c58-9b213a72c764",
   "metadata": {},
   "outputs": [],
   "source": [
    "pytplot.tplot('tha_fit_bfit')"
   ]
  },
  {
   "cell_type": "code",
   "execution_count": 5,
   "id": "fc36f498-2a68-4752-a585-2834a80299f8",
   "metadata": {},
   "outputs": [],
   "source": [
    "pytplot.tplot('tha_fit_efit')"
   ]
  }
 ],
 "metadata": {
  "kernelspec": {
   "display_name": "Python 3 (ipykernel)",
   "language": "python",
   "name": "python3"
  },
  "language_info": {
   "codemirror_mode": {
    "name": "ipython",
    "version": 3
   },
   "file_extension": ".py",
   "mimetype": "text/x-python",
   "name": "python",
   "nbconvert_exporter": "python",
   "pygments_lexer": "ipython3",
   "version": "3.9.2"
  }
 },
 "nbformat": 4,
 "nbformat_minor": 5
}
