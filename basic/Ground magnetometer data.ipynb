{
 "cells": [
  {
   "cell_type": "markdown",
   "id": "a5d82bc5",
   "metadata": {},
   "source": [
    "## Demonstrate basic examples of loading ground magnetometer data\n",
    "\n",
    "For more information:\n",
    "    http://themis.ssl.berkeley.edu/instrument_gmags.shtml"
   ]
  },
  {
   "cell_type": "code",
   "execution_count": 1,
   "id": "64f369f6",
   "metadata": {},
   "outputs": [],
   "source": [
    "import pyspedas\n",
    "from pytplot import tplot"
   ]
  },
  {
   "cell_type": "code",
   "execution_count": 2,
   "id": "35033bc7",
   "metadata": {},
   "outputs": [],
   "source": [
    "trange = ['2006-10-02', '2006-10-04']"
   ]
  },
  {
   "cell_type": "markdown",
   "id": "93620850",
   "metadata": {},
   "source": [
    "### Load some ground mag data"
   ]
  },
  {
   "cell_type": "code",
   "execution_count": 3,
   "id": "9f9302e0",
   "metadata": {},
   "outputs": [
    {
     "name": "stderr",
     "output_type": "stream",
     "text": [
      "24-Sep-21 15:00:25: Downloading remote index: http://themis.ssl.berkeley.edu/data/themis/thg/l2/mag/bmls/2006/\n",
      "24-Sep-21 15:00:26: File is current: themis_data/thg/l2/mag/bmls/2006/thg_l2_mag_bmls_20061002_v01.cdf\n",
      "24-Sep-21 15:00:26: File is current: themis_data/thg/l2/mag/bmls/2006/thg_l2_mag_bmls_20061003_v01.cdf\n",
      "24-Sep-21 15:00:26: Downloading remote index: http://themis.ssl.berkeley.edu/data/themis/thg/l2/mag/ccnv/2006/\n",
      "24-Sep-21 15:00:26: File is current: themis_data/thg/l2/mag/ccnv/2006/thg_l2_mag_ccnv_20061002_v01.cdf\n",
      "24-Sep-21 15:00:26: File is current: themis_data/thg/l2/mag/ccnv/2006/thg_l2_mag_ccnv_20061003_v01.cdf\n",
      "24-Sep-21 15:00:26: Downloading remote index: http://themis.ssl.berkeley.edu/data/themis/thg/l2/mag/fykn/2006/\n",
      "24-Sep-21 15:00:27: File is current: themis_data/thg/l2/mag/fykn/2006/thg_l2_mag_fykn_20061002_v01.cdf\n",
      "24-Sep-21 15:00:27: File is current: themis_data/thg/l2/mag/fykn/2006/thg_l2_mag_fykn_20061003_v01.cdf\n"
     ]
    },
    {
     "data": {
      "text/plain": [
       "['thg_mag_bmls', 'thg_mag_ccnv', 'thg_mag_fykn']"
      ]
     },
     "execution_count": 3,
     "metadata": {},
     "output_type": "execute_result"
    }
   ],
   "source": [
    "pyspedas.themis.gmag(sites=['bmls', 'ccnv', 'fykn'], trange=trange)"
   ]
  },
  {
   "cell_type": "code",
   "execution_count": 4,
   "id": "328cfe87",
   "metadata": {},
   "outputs": [],
   "source": [
    "tplot(['thg_mag_bmls', 'thg_mag_ccnv', 'thg_mag_fykn'])"
   ]
  },
  {
   "cell_type": "markdown",
   "id": "c700874f",
   "metadata": {},
   "source": [
    "### Load entire networks\n",
    "\n",
    "You can load entire networks with the 'group' keyword, e.g.,\n",
    "\n",
    "          group='thm': THEMIS GBO network\n",
    "          group='epo': THEMIS EPO network\n",
    "          group='tgo': TGO network\n",
    "          group='dtu': DTU network\n",
    "          group='maccs': MACCS network\n",
    "          group='usgs': USGS network\n",
    "          group='ua': University of Alaska sites\n",
    "          group='atha': University of Athabasca/AUTUMN network\n",
    "          group='carisma': CARISMA network\n",
    "          group:'mcmac': MCMAC network\n",
    "          group='nrcan': NRCAN network\n",
    "\n",
    "Consult network websites for terms of use."
   ]
  },
  {
   "cell_type": "markdown",
   "id": "bd913dee",
   "metadata": {},
   "source": [
    "#### Load all THEMIS GBO sites"
   ]
  },
  {
   "cell_type": "code",
   "execution_count": 5,
   "id": "9d3ab920",
   "metadata": {
    "scrolled": true
   },
   "outputs": [
    {
     "name": "stderr",
     "output_type": "stream",
     "text": [
      "24-Sep-21 15:01:27: Downloading remote index: http://themis.ssl.berkeley.edu/data/themis/thg/l2/mag/atha/2006/\n",
      "24-Sep-21 15:01:27: Remote index not found: http://themis.ssl.berkeley.edu/data/themis/thg/l2/mag/atha/2006/\n",
      "24-Sep-21 15:01:27: Downloading remote index: http://themis.ssl.berkeley.edu/data/themis/thg/l2/mag/atha/2006/\n",
      "24-Sep-21 15:01:27: Remote index not found: http://themis.ssl.berkeley.edu/data/themis/thg/l2/mag/atha/2006/\n",
      "24-Sep-21 15:01:27: Downloading remote index: http://themis.ssl.berkeley.edu/data/themis/thg/l2/mag/chbg/2006/\n",
      "24-Sep-21 15:01:28: File is current: themis_data/thg/l2/mag/chbg/2006/thg_l2_mag_chbg_20061002_v01.cdf\n",
      "24-Sep-21 15:01:28: File is current: themis_data/thg/l2/mag/chbg/2006/thg_l2_mag_chbg_20061003_v01.cdf\n",
      "24-Sep-21 15:01:28: Downloading remote index: http://themis.ssl.berkeley.edu/data/themis/thg/l2/mag/ekat/2006/\n",
      "24-Sep-21 15:01:28: File is current: themis_data/thg/l2/mag/ekat/2006/thg_l2_mag_ekat_20061002_v01.cdf\n",
      "24-Sep-21 15:01:30: File is current: themis_data/thg/l2/mag/ekat/2006/thg_l2_mag_ekat_20061003_v01.cdf\n",
      "24-Sep-21 15:01:30: Downloading remote index: http://themis.ssl.berkeley.edu/data/themis/thg/l2/mag/fsim/2006/\n",
      "24-Sep-21 15:01:30: Downloading remote index: http://themis.ssl.berkeley.edu/data/themis/thg/l2/mag/fsmi/2006/\n",
      "24-Sep-21 15:01:30: Downloading remote index: http://themis.ssl.berkeley.edu/data/themis/thg/l2/mag/fykn/2006/\n",
      "24-Sep-21 15:01:31: File is current: themis_data/thg/l2/mag/fykn/2006/thg_l2_mag_fykn_20061002_v01.cdf\n",
      "24-Sep-21 15:01:31: File is current: themis_data/thg/l2/mag/fykn/2006/thg_l2_mag_fykn_20061003_v01.cdf\n",
      "24-Sep-21 15:01:31: Downloading remote index: http://themis.ssl.berkeley.edu/data/themis/thg/l2/mag/gbay/2006/\n",
      "24-Sep-21 15:01:31: File is current: themis_data/thg/l2/mag/gbay/2006/thg_l2_mag_gbay_20061002_v01.cdf\n",
      "24-Sep-21 15:01:31: File is current: themis_data/thg/l2/mag/gbay/2006/thg_l2_mag_gbay_20061003_v01.cdf\n",
      "24-Sep-21 15:01:31: Downloading remote index: http://themis.ssl.berkeley.edu/data/themis/thg/l2/mag/glyn/2006/\n",
      "24-Sep-21 15:01:32: File is current: themis_data/thg/l2/mag/glyn/2006/thg_l2_mag_glyn_20061002_v01.cdf\n",
      "24-Sep-21 15:01:32: File is current: themis_data/thg/l2/mag/glyn/2006/thg_l2_mag_glyn_20061003_v01.cdf\n",
      "24-Sep-21 15:01:32: Downloading remote index: http://themis.ssl.berkeley.edu/data/themis/thg/l2/mag/gill/2006/\n",
      "24-Sep-21 15:01:32: Downloading remote index: http://themis.ssl.berkeley.edu/data/themis/thg/l2/mag/inuv/2006/\n",
      "24-Sep-21 15:01:32: File is current: themis_data/thg/l2/mag/inuv/2006/thg_l2_mag_inuv_20061002_v01.cdf\n",
      "24-Sep-21 15:01:32: File is current: themis_data/thg/l2/mag/inuv/2006/thg_l2_mag_inuv_20061003_v01.cdf\n",
      "24-Sep-21 15:01:32: Downloading remote index: http://themis.ssl.berkeley.edu/data/themis/thg/l2/mag/kapu/2006/\n",
      "24-Sep-21 15:01:32: File is current: themis_data/thg/l2/mag/kapu/2006/thg_l2_mag_kapu_20061002_v01.cdf\n",
      "24-Sep-21 15:01:32: File is current: themis_data/thg/l2/mag/kapu/2006/thg_l2_mag_kapu_20061003_v01.cdf\n",
      "24-Sep-21 15:01:32: Downloading remote index: http://themis.ssl.berkeley.edu/data/themis/thg/l2/mag/kian/2006/\n",
      "24-Sep-21 15:01:33: File is current: themis_data/thg/l2/mag/kian/2006/thg_l2_mag_kian_20061002_v01.cdf\n",
      "24-Sep-21 15:01:33: File is current: themis_data/thg/l2/mag/kian/2006/thg_l2_mag_kian_20061003_v01.cdf\n",
      "24-Sep-21 15:01:33: Downloading remote index: http://themis.ssl.berkeley.edu/data/themis/thg/l2/mag/kuuj/2006/\n",
      "24-Sep-21 15:01:33: Remote index not found: http://themis.ssl.berkeley.edu/data/themis/thg/l2/mag/kuuj/2006/\n",
      "24-Sep-21 15:01:33: Downloading remote index: http://themis.ssl.berkeley.edu/data/themis/thg/l2/mag/kuuj/2006/\n",
      "24-Sep-21 15:01:33: Remote index not found: http://themis.ssl.berkeley.edu/data/themis/thg/l2/mag/kuuj/2006/\n",
      "24-Sep-21 15:01:33: Downloading remote index: http://themis.ssl.berkeley.edu/data/themis/thg/l2/mag/mcgr/2006/\n",
      "24-Sep-21 15:01:34: File is current: themis_data/thg/l2/mag/mcgr/2006/thg_l2_mag_mcgr_20061002_v01.cdf\n",
      "24-Sep-21 15:01:34: File is current: themis_data/thg/l2/mag/mcgr/2006/thg_l2_mag_mcgr_20061003_v01.cdf\n",
      "24-Sep-21 15:01:34: Downloading remote index: http://themis.ssl.berkeley.edu/data/themis/thg/greenland_gmag/l2/mag/nrsq/2006/\n",
      "24-Sep-21 15:01:36: Remote index not found: http://themis.ssl.berkeley.edu/data/themis/thg/greenland_gmag/l2/mag/nrsq/2006/\n",
      "24-Sep-21 15:01:36: Downloading remote index: http://themis.ssl.berkeley.edu/data/themis/thg/greenland_gmag/l2/mag/nrsq/2006/\n",
      "24-Sep-21 15:01:36: Remote index not found: http://themis.ssl.berkeley.edu/data/themis/thg/greenland_gmag/l2/mag/nrsq/2006/\n",
      "24-Sep-21 15:01:36: Downloading remote index: http://themis.ssl.berkeley.edu/data/themis/thg/l2/mag/pgeo/2006/\n",
      "24-Sep-21 15:01:36: File is current: themis_data/thg/l2/mag/pgeo/2006/thg_l2_mag_pgeo_20061002_v01.cdf\n",
      "24-Sep-21 15:01:37: File is current: themis_data/thg/l2/mag/pgeo/2006/thg_l2_mag_pgeo_20061003_v01.cdf\n",
      "24-Sep-21 15:01:37: Downloading remote index: http://themis.ssl.berkeley.edu/data/themis/thg/l2/mag/pina/2006/\n",
      "24-Sep-21 15:01:37: Downloading remote index: http://themis.ssl.berkeley.edu/data/themis/thg/l2/mag/rank/2006/\n",
      "24-Sep-21 15:01:37: Downloading remote index: http://themis.ssl.berkeley.edu/data/themis/thg/l2/mag/snap/2006/\n",
      "24-Sep-21 15:01:37: Remote index not found: http://themis.ssl.berkeley.edu/data/themis/thg/l2/mag/snap/2006/\n",
      "24-Sep-21 15:01:37: Downloading remote index: http://themis.ssl.berkeley.edu/data/themis/thg/l2/mag/snap/2006/\n",
      "24-Sep-21 15:01:37: Remote index not found: http://themis.ssl.berkeley.edu/data/themis/thg/l2/mag/snap/2006/\n",
      "24-Sep-21 15:01:37: Downloading remote index: http://themis.ssl.berkeley.edu/data/themis/thg/l2/mag/snkq/2006/\n",
      "24-Sep-21 15:01:37: Remote index not found: http://themis.ssl.berkeley.edu/data/themis/thg/l2/mag/snkq/2006/\n",
      "24-Sep-21 15:01:37: Downloading remote index: http://themis.ssl.berkeley.edu/data/themis/thg/l2/mag/snkq/2006/\n",
      "24-Sep-21 15:01:37: Remote index not found: http://themis.ssl.berkeley.edu/data/themis/thg/l2/mag/snkq/2006/\n",
      "24-Sep-21 15:01:37: Downloading remote index: http://themis.ssl.berkeley.edu/data/themis/thg/l2/mag/tpas/2006/\n",
      "24-Sep-21 15:01:38: File is current: themis_data/thg/l2/mag/tpas/2006/thg_l2_mag_tpas_20061002_v01.cdf\n",
      "24-Sep-21 15:01:38: File is current: themis_data/thg/l2/mag/tpas/2006/thg_l2_mag_tpas_20061003_v01.cdf\n",
      "24-Sep-21 15:01:38: Downloading remote index: http://themis.ssl.berkeley.edu/data/themis/thg/l2/mag/whit/2006/\n",
      "24-Sep-21 15:01:38: File is current: themis_data/thg/l2/mag/whit/2006/thg_l2_mag_whit_20061002_v01.cdf\n",
      "24-Sep-21 15:01:38: File is current: themis_data/thg/l2/mag/whit/2006/thg_l2_mag_whit_20061003_v01.cdf\n",
      "24-Sep-21 15:01:38: Downloading remote index: http://themis.ssl.berkeley.edu/data/themis/thg/l2/mag/yknf/2006/\n",
      "24-Sep-21 15:01:38: Remote index not found: http://themis.ssl.berkeley.edu/data/themis/thg/l2/mag/yknf/2006/\n",
      "24-Sep-21 15:01:38: Downloading remote index: http://themis.ssl.berkeley.edu/data/themis/thg/l2/mag/yknf/2006/\n",
      "24-Sep-21 15:01:39: Remote index not found: http://themis.ssl.berkeley.edu/data/themis/thg/l2/mag/yknf/2006/\n"
     ]
    }
   ],
   "source": [
    "thm_sites = pyspedas.themis.gmag(group='thm', trange=trange)"
   ]
  },
  {
   "cell_type": "code",
   "execution_count": 6,
   "id": "42e1c85d",
   "metadata": {},
   "outputs": [],
   "source": [
    "tplot(thm_sites)"
   ]
  },
  {
   "cell_type": "markdown",
   "id": "fcdce246",
   "metadata": {},
   "source": [
    "### Subtract the average after loading the data"
   ]
  },
  {
   "cell_type": "code",
   "execution_count": 7,
   "id": "fd3fd069",
   "metadata": {},
   "outputs": [],
   "source": [
    "from pyspedas import subtract_average"
   ]
  },
  {
   "cell_type": "code",
   "execution_count": 8,
   "id": "3538d47d",
   "metadata": {},
   "outputs": [
    {
     "name": "stderr",
     "output_type": "stream",
     "text": [
      "24-Sep-21 15:01:52: Downloading remote index: http://themis.ssl.berkeley.edu/data/themis/thg/l2/mag/bmls/2006/\n",
      "24-Sep-21 15:01:52: File is current: themis_data/thg/l2/mag/bmls/2006/thg_l2_mag_bmls_20061002_v01.cdf\n",
      "24-Sep-21 15:01:53: File is current: themis_data/thg/l2/mag/bmls/2006/thg_l2_mag_bmls_20061003_v01.cdf\n"
     ]
    }
   ],
   "source": [
    "bmls = pyspedas.themis.gmag(sites='bmls', trange=trange)"
   ]
  },
  {
   "cell_type": "code",
   "execution_count": 9,
   "id": "81e8ce1f",
   "metadata": {},
   "outputs": [
    {
     "name": "stdout",
     "output_type": "stream",
     "text": [
      "thg_mag_bmls copied to thg_mag_bmls-d\n",
      "Subtract Mean was applied to: thg_mag_bmls-d\n"
     ]
    }
   ],
   "source": [
    "subtract_average(bmls)"
   ]
  },
  {
   "cell_type": "code",
   "execution_count": 10,
   "id": "21879db2",
   "metadata": {},
   "outputs": [],
   "source": [
    "tplot('thg_mag_bmls-d')"
   ]
  },
  {
   "cell_type": "markdown",
   "id": "7d443125",
   "metadata": {},
   "source": [
    "### Subtract the median after loading the data"
   ]
  },
  {
   "cell_type": "code",
   "execution_count": 11,
   "id": "3de08549",
   "metadata": {},
   "outputs": [],
   "source": [
    "from pyspedas import subtract_median"
   ]
  },
  {
   "cell_type": "code",
   "execution_count": 12,
   "id": "4dc41af1",
   "metadata": {},
   "outputs": [
    {
     "name": "stdout",
     "output_type": "stream",
     "text": [
      "thg_mag_bmls copied to thg_mag_bmls-m\n",
      "Subtract Median was applied to: thg_mag_bmls-m\n"
     ]
    }
   ],
   "source": [
    "subtract_median(bmls)"
   ]
  },
  {
   "cell_type": "code",
   "execution_count": 13,
   "id": "0f62e270",
   "metadata": {},
   "outputs": [],
   "source": [
    "tplot('thg_mag_bmls-m')"
   ]
  },
  {
   "cell_type": "markdown",
   "id": "de0c59ed",
   "metadata": {},
   "source": [
    "### Splitting the data into components"
   ]
  },
  {
   "cell_type": "code",
   "execution_count": 14,
   "id": "8a50b8ca",
   "metadata": {},
   "outputs": [
    {
     "name": "stderr",
     "output_type": "stream",
     "text": [
      "24-Sep-21 15:01:54: Downloading remote index: http://themis.ssl.berkeley.edu/data/themis/thg/l2/mag/ccnv/2006/\n",
      "24-Sep-21 15:01:54: File is current: themis_data/thg/l2/mag/ccnv/2006/thg_l2_mag_ccnv_20061002_v01.cdf\n",
      "24-Sep-21 15:01:54: File is current: themis_data/thg/l2/mag/ccnv/2006/thg_l2_mag_ccnv_20061003_v01.cdf\n"
     ]
    },
    {
     "name": "stdout",
     "output_type": "stream",
     "text": [
      "thg_mag_ccnv copied to thg_mag_ccnv-d\n",
      "Subtract Mean was applied to: thg_mag_ccnv-d\n"
     ]
    }
   ],
   "source": [
    "trange = ['2006-10-02', '2006-10-04']\n",
    "pyspedas.themis.gmag(trange=trange, sites='ccnv')\n",
    "subtract_average('thg_mag_ccnv')"
   ]
  },
  {
   "cell_type": "code",
   "execution_count": 15,
   "id": "6fa65344",
   "metadata": {},
   "outputs": [
    {
     "data": {
      "text/plain": [
       "['thg_mag_ccnv-d_x', 'thg_mag_ccnv-d_y', 'thg_mag_ccnv-d_z']"
      ]
     },
     "execution_count": 15,
     "metadata": {},
     "output_type": "execute_result"
    }
   ],
   "source": [
    "from pytplot import split_vec\n",
    "split_vec('thg_mag_ccnv-d')"
   ]
  },
  {
   "cell_type": "code",
   "execution_count": 16,
   "id": "212e4ff6",
   "metadata": {},
   "outputs": [],
   "source": [
    "tplot(['thg_mag_ccnv-d_x', 'thg_mag_ccnv-d_y', 'thg_mag_ccnv-d_z'])"
   ]
  },
  {
   "cell_type": "code",
   "execution_count": null,
   "id": "8f339da6",
   "metadata": {},
   "outputs": [],
   "source": []
  }
 ],
 "metadata": {
  "kernelspec": {
   "display_name": "Python 3 (ipykernel)",
   "language": "python",
   "name": "python3"
  },
  "language_info": {
   "codemirror_mode": {
    "name": "ipython",
    "version": 3
   },
   "file_extension": ".py",
   "mimetype": "text/x-python",
   "name": "python",
   "nbconvert_exporter": "python",
   "pygments_lexer": "ipython3",
   "version": "3.9.1"
  }
 },
 "nbformat": 4,
 "nbformat_minor": 5
}
